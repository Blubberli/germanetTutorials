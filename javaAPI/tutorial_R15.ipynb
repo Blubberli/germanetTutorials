{
 "cells": [
  {
   "cell_type": "markdown",
   "metadata": {},
   "source": [
    "# Getting started with the Java API\n",
    "The API can be added to your project by either downlowding the jar file or adding the following dependency to your pom.xml: "
   ]
  },
  {
   "cell_type": "code",
   "execution_count": 1,
   "metadata": {},
   "outputs": [],
   "source": [
    "%%loadFromPOM\n",
    "<dependency>\n",
    "  <groupId>de.tuebingen.uni.sfs.germanet</groupId>\n",
    "  <artifactId>germanet-api</artifactId>\n",
    "  <version>13.2.1</version>\n",
    "</dependency>"
   ]
  },
  {
   "cell_type": "markdown",
   "metadata": {},
   "source": [
    "The API does some logging, for example when the GermaNet data is loaded, each XML-file will be logged once loaded. If your project does not include any logging library (e.g. logback-classic) you will get a warning message. If you want to see the logs you can add this dependency:"
   ]
  },
  {
   "cell_type": "markdown",
   "metadata": {},
   "source": [
    "```\n",
    "<dependency>\n",
    "    <groupId>ch.qos.logback</groupId>\n",
    "    <artifactId>logback-classic</artifactId>\n",
    "    <version>1.2.3</version>\n",
    "</dependency`\n",
    "```"
   ]
  },
  {
   "cell_type": "markdown",
   "metadata": {},
   "source": [
    "Once you added the GermaNet dependency to your project, you can import the API:"
   ]
  },
  {
   "cell_type": "code",
   "execution_count": 2,
   "metadata": {},
   "outputs": [],
   "source": [
    "import de.tuebingen.uni.sfs.germanet.api.*;"
   ]
  },
  {
   "cell_type": "markdown",
   "metadata": {},
   "source": [
    "Whenever you want to use the API, the first thing you would do is to create a GermaNet object as this loads the data and provides access to it. The data (all XML files) have to be stored in one directory which has to be specified as the first argument when you construct the GermaNet object. If you want to run this code, put your XML files in a \"germanet_data\" directory in your home directory or change the path to the location on your computer.\n",
    "The API also provides methods to compute semantic similarity / relatedness between words (Synsets). To be able to use all of them you have to provide frequency lists for each word category. These lists can be downloaded from:\n",
    "\n"
   ]
  },
  {
   "cell_type": "code",
   "execution_count": 3,
   "metadata": {},
   "outputs": [
    {
     "name": "stdout",
     "output_type": "stream",
     "text": [
      "/Users/nwitte/germanet/GN_V150/GN_V150_XML\n"
     ]
    },
    {
     "name": "stderr",
     "output_type": "stream",
     "text": [
      "SLF4J: Failed to load class \"org.slf4j.impl.StaticLoggerBinder\".\n",
      "SLF4J: Defaulting to no-operation (NOP) logger implementation\n",
      "SLF4J: See http://www.slf4j.org/codes.html#StaticLoggerBinder for further details.\n"
     ]
    },
    {
     "name": "stdout",
     "output_type": "stream",
     "text": [
      "Germanet loaded.\n"
     ]
    }
   ],
   "source": [
    "String userHome = System.getProperty(\"user.home\");\n",
    "String data_path = userHome+\"/germanet/GN_V150/GN_V150_XML\";\n",
    "String freq_list_path = userHome+\"/germanet/GN_V150/FreqLists/\";\n",
    "String nounFreqListPath = freq_list_path + \"/noun_freqs_decow14_16.txt\";\n",
    "String verbFreqListPath = freq_list_path + \"/verb_freqs_decow14_16.txt\";\n",
    "String adjFreqListPath = freq_list_path + \"/adj_freqs_decow14_16.txt\";\n",
    "System.out.println(data_path);\n",
    "GermaNet germanet = new GermaNet(data_path, nounFreqListPath, verbFreqListPath, adjFreqListPath);\n",
    "System.out.println(\"Germanet loaded.\")"
   ]
  },
  {
   "cell_type": "markdown",
   "metadata": {},
   "source": [
    "The data has been loaded and we can now use the API to extract specific information from the data."
   ]
  },
  {
   "cell_type": "markdown",
   "metadata": {},
   "source": [
    "# How to inspect information for a single word input\n",
    "## Inspect synsets\n",
    "Let's consider the input word Fußball 'football'. The following shows how to extract all synsets given an input word. Many words are ambiguous; Fußball belongs to two synsets."
   ]
  },
  {
   "cell_type": "code",
   "execution_count": 4,
   "metadata": {},
   "outputs": [
    {
     "data": {
      "text/plain": [
       "2"
      ]
     },
     "execution_count": 4,
     "metadata": {},
     "output_type": "execute_result"
    }
   ],
   "source": [
    "List <Synset> fussball_synsets = germanet.getSynsets(\"Fußball\");\n",
    "// the length of the retrieved list is equal to the number of possible senses for a word, in this case 2\n",
    "fussball_synsets.size();"
   ]
  },
  {
   "cell_type": "markdown",
   "metadata": {},
   "source": [
    "The string representations include the lexical units, which can be helpful when you want to select a specific meaning for a given word."
   ]
  },
  {
   "cell_type": "code",
   "execution_count": 5,
   "metadata": {},
   "outputs": [
    {
     "name": "stdout",
     "output_type": "stream",
     "text": [
      "id: 21624, orth forms: [Fußball, Fußballspiel, Fußballsport], paraphrases: Sport, Freizeit, kein Plural: eine beliebte Mannschaftssportart, welche mit 22 Spielern und einem Ball gespielt wird\n",
      "id: 7944, orth forms: [Fußball], paraphrases: Sport, Freizeit: ein Ball zur Ausübung des Sportes\n"
     ]
    }
   ],
   "source": [
    "for (Synset synset : fussball_synsets){\n",
    "    System.out.println(synset.toString());\n",
    "}"
   ]
  },
  {
   "cell_type": "markdown",
   "metadata": {},
   "source": [
    "In this case, let's say we are interested in the sense of *Fußball* which is synonymous with *Fußballspiel* &mdash; that is, the game rather than the ball."
   ]
  },
  {
   "cell_type": "code",
   "execution_count": 6,
   "metadata": {},
   "outputs": [],
   "source": [
    "Synset fussball_synset = germanet.getSynsetByID(21624);"
   ]
  },
  {
   "cell_type": "markdown",
   "metadata": {},
   "source": [
    "Every synset has a number of properties that can be extracted. Each synset has a unique id."
   ]
  },
  {
   "cell_type": "code",
   "execution_count": 7,
   "metadata": {},
   "outputs": [
    {
     "data": {
      "text/plain": [
       "21624"
      ]
     },
     "execution_count": 7,
     "metadata": {},
     "output_type": "execute_result"
    }
   ],
   "source": [
    "fussball_synset.getId();\n"
   ]
  },
  {
   "cell_type": "markdown",
   "metadata": {},
   "source": [
    "A synset can have one of three possible word categories (verb, noun, adjective). "
   ]
  },
  {
   "cell_type": "code",
   "execution_count": 8,
   "metadata": {},
   "outputs": [
    {
     "data": {
      "text/plain": [
       "nomen"
      ]
     },
     "execution_count": 8,
     "metadata": {},
     "output_type": "execute_result"
    }
   ],
   "source": [
    "fussball_synset.getWordCategory();"
   ]
  },
  {
   "cell_type": "markdown",
   "metadata": {},
   "source": [
    "For each of the word categories the semantic space is divided into a number of semantic fields. (e.g *Besitz*,\n",
    "*Kommunikation*, *Geschehen*...), called `WordClass`. "
   ]
  },
  {
   "cell_type": "code",
   "execution_count": 9,
   "metadata": {},
   "outputs": [
    {
     "data": {
      "text/plain": [
       "Geschehen"
      ]
     },
     "execution_count": 9,
     "metadata": {},
     "output_type": "execute_result"
    }
   ],
   "source": [
    "fussball_synset.getWordClass();"
   ]
  },
  {
   "cell_type": "markdown",
   "metadata": {},
   "source": [
    "Synsets are related to other synsets via conceptual relations `ConRel`. The most important relation is the hypernymy\n",
    "/ hyponymy relation. Direct hypernyms of a synset (one level above) and hyponyms (one level below) can be accessed through the relations `has_hypernym` and `has_hyponym`."
   ]
  },
  {
   "cell_type": "code",
   "execution_count": 10,
   "metadata": {},
   "outputs": [
    {
     "data": {
      "text/plain": [
       "[id: 21606, orth forms: [Ballspiel, Ballsportart, Ballsport], paraphrases: Ein Spiel, das mit einem Ball gespielt wird; Eine Sportart, die mit einem Ball betrieben wird]"
      ]
     },
     "execution_count": 10,
     "metadata": {},
     "output_type": "execute_result"
    }
   ],
   "source": [
    "fussball_synset.getRelatedSynsets(ConRel.has_hypernym);"
   ]
  },
  {
   "cell_type": "code",
   "execution_count": 11,
   "metadata": {},
   "outputs": [
    {
     "data": {
      "text/plain": [
       "[id: 71210, orth forms: [Jugendfußball], id: 69685, orth forms: [Amateurfußball], id: 84590, orth forms: [Männerfußball], id: 21625, orth forms: [Profifußball], id: 21626, orth forms: [Damenfußball, Frauenfußball], id: 137940, orth forms: [Berufsfußball], id: 139802, orth forms: [Torwandschießen], id: 133871, orth forms: [Mädchenfußball], id: 146603, orth forms: [Straßenfußball], id: 145820, orth forms: [Kombinationsfußball], id: 137475, orth forms: [Klubfußball, Clubfußball], id: 79925, orth forms: [Hallenfußball], id: 104374, orth forms: [Spitzenfußball], id: 62081, orth forms: [Vereinsfußball], id: 133731, orth forms: [Weltfußball], id: 124051, orth forms: [Freizeitfußball]]"
      ]
     },
     "execution_count": 11,
     "metadata": {},
     "output_type": "execute_result"
    }
   ],
   "source": [
    "fussball_synset.getRelatedSynsets(ConRel.has_hyponym);"
   ]
  },
  {
   "cell_type": "markdown",
   "metadata": {},
   "source": [
    "We can see that *Fußball* has exactly one hypernym and several hyponyms. It is also possible to list all <!-- transitive? --> hypernyms\n",
    "from *Fußball* to the top node (root node).\n"
   ]
  },
  {
   "cell_type": "code",
   "execution_count": 12,
   "metadata": {},
   "outputs": [
    {
     "data": {
      "text/plain": [
       "[[Veranstaltung], [qualitative Beziehung], [Sport, Sportdisziplin, Sportart, Disziplin], [Ereignis], [Ballspiel, Ballsportart, Ballsport], [Verhältnis, Relation, Beziehung], [Situation], [Wettkampf, Kampf], [GNROOT], [Tat, Tätigkeit, Handlung, Aktivität], [Sportwettkampf], [Zustand], [Spiel, Sportspiel, Partie, Match], [Geschehen, Geschehnis], [Sportereignis, Sportveranstaltung], [Konflikt, Auseinandersetzung]]"
      ]
     },
     "execution_count": 12,
     "metadata": {},
     "output_type": "execute_result"
    }
   ],
   "source": [
    "Set all_hypernyms = new HashSet();\n",
    "List<List<Synset>> transitive_closure = fussball_synset.getTransRelatedSynsets(ConRel.has_hypernym);\n",
    "for (List<Synset> p : transitive_closure){\n",
    "    for (Synset hypernym: p){\n",
    "        if (!hypernym.equals(fussball_synset)) {\n",
    "        all_hypernyms.add(hypernym.getAllOrthForms());\n",
    "        }\n",
    "    }\n",
    "}\n",
    "\n",
    "all_hypernyms;\n"
   ]
  },
  {
   "cell_type": "markdown",
   "metadata": {},
   "source": [
    "The level where the *Fußball* synset is attached to the Graph is called its depth."
   ]
  },
  {
   "cell_type": "code",
   "execution_count": 13,
   "metadata": {},
   "outputs": [
    {
     "data": {
      "text/plain": [
       "8"
      ]
     },
     "execution_count": 13,
     "metadata": {},
     "output_type": "execute_result"
    }
   ],
   "source": [
    "fussball_synset.getDepth();"
   ]
  },
  {
   "cell_type": "markdown",
   "metadata": {},
   "source": [
    "## Use the semantic utils to measure semantic similarity / relatedness\n",
    "\n",
    "You can also use the API to compare a synset with another synset. These methods work only for two synsets that have the same word category, for example for two nouns. There are two different types of similarity measures:\n",
    "- path-based measures\n",
    "- information-content-based measures\n",
    "\n",
    "Path-based measures compute the semantic relatedness between two concepts based on the shortest path between two synsets in the hypernym relation. The shortest path length is the minimal number of nodes forming a path between the two synsets in the relation. Different measures weigh or normalize the path-length in different ways.\n"
   ]
  },
  {
   "cell_type": "markdown",
   "metadata": {},
   "source": [
    "### Example for path-based measures\n",
    "\n",
    "The following example shows how to use path-based semantic relatedness measures to check whether *Trompete* (trumpet) is more closely related to *Posaune* (trombone) than to *Flöte* (flute) and how to disambiguate *Flügel* (wing, blade, grand) in the context of *Klavier* (piano). \n",
    "\n",
    "To use the path-based semantic relatedness measures you have to initialize a `SemanticUtils` object.\n",
    "\n",
    "As mentioned above, these measures only work for synsets that belong to the same word category."
   ]
  },
  {
   "cell_type": "code",
   "execution_count": 14,
   "metadata": {},
   "outputs": [],
   "source": [
    "SemanticUtils semanticUtils = germanet.getSemanticUtils();\n"
   ]
  },
  {
   "cell_type": "markdown",
   "metadata": {},
   "source": [
    "We can now use the `SemanticUtils` object to find out whether *Trompete* (trumpet) is more closely related to *Posaune* (trombone) or to *Flöte* (flute):"
   ]
  },
  {
   "cell_type": "code",
   "execution_count": 15,
   "metadata": {},
   "outputs": [
    {
     "data": {
      "text/plain": [
       "id: 11590, orth forms: [Trompete], paraphrases: Musik: Hohes Blechblasinstrument mit einem Kesselmundstück"
      ]
     },
     "execution_count": 15,
     "metadata": {},
     "output_type": "execute_result"
    }
   ],
   "source": [
    "Synset trompete = germanet.getSynsets(\"Trompete\").get(0);\n",
    "trompete;"
   ]
  },
  {
   "cell_type": "code",
   "execution_count": 16,
   "metadata": {},
   "outputs": [
    {
     "data": {
      "text/plain": [
       "id: 11572, orth forms: [Flöte], paraphrases: ein Blasinstrument, ein Musikinstrument"
      ]
     },
     "execution_count": 16,
     "metadata": {},
     "output_type": "execute_result"
    }
   ],
   "source": [
    "Synset flöte = germanet.getSynsets(\"Flöte\").get(0);\n",
    "flöte;"
   ]
  },
  {
   "cell_type": "code",
   "execution_count": 17,
   "metadata": {},
   "outputs": [
    {
     "data": {
      "text/plain": [
       "id: 11589, orth forms: [Posaune], paraphrases: Musik: ein Blechblasinstrument mit einem Zug zum verändern des Tones"
      ]
     },
     "execution_count": 17,
     "metadata": {},
     "output_type": "execute_result"
    }
   ],
   "source": [
    "Synset posaune = germanet.getSynsets(\"Posaune\").get(0);\n",
    "posaune;"
   ]
  },
  {
   "cell_type": "code",
   "execution_count": 18,
   "metadata": {},
   "outputs": [
    {
     "data": {
      "text/plain": [
       "true"
      ]
     },
     "execution_count": 18,
     "metadata": {},
     "output_type": "execute_result"
    }
   ],
   "source": [
    "Double trompete_posaune = semanticUtils.getSimilaritySimplePath(trompete, posaune, 10);\n",
    "Double trompete_flöte = semanticUtils.getSimilaritySimplePath(trompete, flöte, 10);\n",
    "trompete_posaune > trompete_flöte;"
   ]
  },
  {
   "cell_type": "markdown",
   "metadata": {},
   "source": [
    "Path based relatedness measures can also be used to disambiguate word senses. This example shows how to find the sense of *Flügel* (wing, blade, grand) which is most similar to *Klavier* (piano) according to three different path-based measures:. "
   ]
  },
  {
   "cell_type": "code",
   "execution_count": 19,
   "metadata": {},
   "outputs": [],
   "source": [
    "%%loadFromPOM\n",
    "<dependency>\n",
    "    <groupId>de.vandermeer</groupId>\n",
    "    <artifactId>asciitable</artifactId>\n",
    "    <version>0.3.2</version>\n",
    "</dependency>"
   ]
  },
  {
   "cell_type": "code",
   "execution_count": 20,
   "metadata": {},
   "outputs": [
    {
     "data": {
      "text/plain": [
       "id: 11619, orth forms: [Piano, Klavier, Pianoforte], paraphrases: Tasteninstrument, dessen Klang durch Saiten erzeugt wird; Klavier, Abkürzung für Pianoforte. (Am Klavier kann man im Gegensatz zum Cembalo die Dynamik verändern.)"
      ]
     },
     "execution_count": 20,
     "metadata": {},
     "output_type": "execute_result"
    }
   ],
   "source": [
    "Synset klavier = germanet.getSynsets(\"Klavier\").get(0);\n",
    "List<Synset> flügel_synsets = germanet.getSynsets(\"Flügel\");\n",
    "klavier;"
   ]
  },
  {
   "cell_type": "code",
   "execution_count": 21,
   "metadata": {},
   "outputs": [
    {
     "data": {
      "text/plain": [
       "id: 11625, orth forms: [Flügel], paraphrases: Musik, Musikinstrumentenbau: ein großes Klavier, besonders für Konzerte, dessen Deckel meist geöffnet ist, wenn man darauf spielt"
      ]
     },
     "execution_count": 21,
     "metadata": {},
     "output_type": "execute_result"
    }
   ],
   "source": [
    "import de.vandermeer.asciitable.*;\n",
    "AsciiTable at = new AsciiTable();\n",
    "at.addRule();\n",
    "at.addRow(\" Synset ID \", \" Orth Forms \", \" Simple Path \", \" Leacock and Chodorow \", \" Wu and Palmer \");\n",
    "at.addRule();\n",
    "Double highest_sim_simple = 0.0;\n",
    "Double highest_sim_leacock = 0.0;\n",
    "Double highest_sim_wu = 0.0;\n",
    "Synset most_similar_synset = null;\n",
    "for (Synset synset : flügel_synsets){\n",
    "    if (synset.getWordCategory().equals(WordCategory.nomen)){\n",
    "        Double sim_simple = semanticUtils.getSimilarity(SemRelMeasure.SimplePath, synset, klavier, 1);\n",
    "        Double sim_leacock = semanticUtils.getSimilarity(SemRelMeasure.LeacockAndChodorow, synset, klavier, 1);\n",
    "        Double sim_wu = semanticUtils.getSimilarity(SemRelMeasure.WuAndPalmer, synset, klavier, 1);\n",
    "        at.addRow(String.format(\"%d\", synset.getId()), synset.getAllOrthForms().toString(), String.format(\"%.2f\", sim_simple), String.format(\"%.2f\", sim_leacock), String.format(\"%.2f\", sim_wu));\n",
    "        //System.out.println(String.format(\"\\n These are the similarities between the synset for Klavier and %s : \\n Simple Path : %.2f\\n Leackock and Chodorow: %.2f\\n Wu and Palmer : %.2f\", synset.toString(), sim_simple, sim_leacock, sim_wu));\n",
    "        if (sim_simple > highest_sim_simple && sim_leacock > highest_sim_leacock && sim_wu > highest_sim_wu ){\n",
    "            highest_sim_simple = sim_simple;\n",
    "            highest_sim_leacock = sim_leacock;\n",
    "            highest_sim_wu = sim_wu;\n",
    "            most_similar_synset = synset;\n",
    "            }\n",
    "        }\n",
    "}\n",
    "most_similar_synset;"
   ]
  },
  {
   "cell_type": "markdown",
   "metadata": {},
   "source": [
    "We can verify that this is the most similar synset by looking at all the similarity results in a table:"
   ]
  },
  {
   "cell_type": "code",
   "execution_count": 22,
   "metadata": {},
   "outputs": [
    {
     "name": "stdout",
     "output_type": "stream",
     "text": [
      "┌───────────────┬───────────────┬───────────────┬───────────────┬──────────────┐\n",
      "│ Synset ID     │ Orth Forms    │ Simple Path   │ Leacock   and │ Wu       and │\n",
      "│               │               │               │ Chodorow      │ Palmer       │\n",
      "├───────────────┼───────────────┼───────────────┼───────────────┼──────────────┤\n",
      "│ 73683         │ [Flügel]      │ 0,69          │ 0,31          │ 0,35         │\n",
      "│ 12102         │ [Flügel,      │ 0,80          │ 0,42          │ 0,53         │\n",
      "│               │ Rotorblatt]   │               │               │              │\n",
      "│ 9697          │ [Flügel,      │ 0,74          │ 0,36          │ 0,40         │\n",
      "│               │ Seitenflügel] │               │               │              │\n",
      "│ 26446         │ [Flügel,      │ 0,69          │ 0,31          │ 0,27         │\n",
      "│               │ Schwinge]     │               │               │              │\n",
      "│ 23151         │ [Flügel,      │ 0,66          │ 0,28          │ 0,33         │\n",
      "│               │ Parteiflügel] │               │               │              │\n",
      "│ 11625         │ [Flügel]      │ 0,94          │ 0,69          │ 0,89         │\n",
      "│ 73727         │ [Flügel]      │ 0,77          │ 0,39          │ 0,43         │\n",
      "└───────────────┴───────────────┴───────────────┴───────────────┴──────────────┘\n"
     ]
    }
   ],
   "source": [
    "at.addRule();\n",
    "at.setPaddingLeftRight(1);\n",
    "String rend = at.render();\n",
    "System.out.println(rend);"
   ]
  },
  {
   "cell_type": "markdown",
   "metadata": {},
   "source": [
    "### Example for IC-based measures\n",
    "\n",
    "One problem with path-based measures is that paths of the same length in the hypernym relation can correspond to very different intuitive semantic \"distances\".\n",
    "Measures based on *information content* (IC) seek to solve this problem by augmenting information about the structural distances in the hypernym relation with information about word frequencies. \n",
    "The word frequencies are used to compute the information content, which grades concepts from more specific to more general. If a very specific synset is compared to a very general one, the relatedness will be low. The relatedness of two synsets is measured based on the information content of their least common subsumer (the lowest synset in the hierarchy that is hypernym to both synsets).\n",
    "\n",
    "To use these measures, you have to create download frequency lists for words in Germanet. These lists contain the raw frequencies of the nouns, adjectives and verbs that are in Germanet, based on a very large corpus. You can use either the provided frequency lists or your own lists."
   ]
  },
  {
   "cell_type": "markdown",
   "metadata": {},
   "source": [
    "The following code snippet shows the advantage of the IC-based measures. While path-based measures would classify the words *Pflanze* 'plant' and *Tier* 'animal' as being almost as similar as the words *Roteiche* 'red oak' and *Steineiche* 'holm oak', the IC-based measures distinguish whether two synsets are very general or more specific and consequently assign a higher similarity score to the second pair of words."
   ]
  },
  {
   "cell_type": "code",
   "execution_count": 23,
   "metadata": {},
   "outputs": [],
   "source": [
    "//first word pair:\n",
    "Synset pflanze = germanet.getSynsetByID(44960);\n",
    "Synset tier = germanet.getSynsetByID(48805);\n",
    "\n",
    "//second word pair:\n",
    "Synset roteiche = germanet.getSynsetByID(46054);\n",
    "Synset steineiche = germanet.getSynsetByID(46056);"
   ]
  },
  {
   "cell_type": "markdown",
   "metadata": {},
   "source": [
    "Notice that a path-based measure between these word pairs yields almost the same results:\n",
    "\n"
   ]
  },
  {
   "cell_type": "code",
   "execution_count": 24,
   "metadata": {},
   "outputs": [
    {
     "data": {
      "text/plain": [
       "0.6131471927654584"
      ]
     },
     "execution_count": 24,
     "metadata": {},
     "output_type": "execute_result"
    }
   ],
   "source": [
    "semanticUtils.getSimilarity(SemRelMeasure.LeacockAndChodorow, pflanze, tier, 1);"
   ]
  },
  {
   "cell_type": "code",
   "execution_count": 25,
   "metadata": {},
   "outputs": [
    {
     "data": {
      "text/plain": [
       "0.6934264036172707"
      ]
     },
     "execution_count": 25,
     "metadata": {},
     "output_type": "execute_result"
    }
   ],
   "source": [
    "semanticUtils.getSimilarity(SemRelMeasure.LeacockAndChodorow, roteiche, steineiche, 1);"
   ]
  },
  {
   "cell_type": "markdown",
   "metadata": {},
   "source": [
    "But an IC-based measure clearly distinguishes the two pairs:"
   ]
  },
  {
   "cell_type": "code",
   "execution_count": 26,
   "metadata": {},
   "outputs": [
    {
     "data": {
      "text/plain": [
       "0.10984810485167636"
      ]
     },
     "execution_count": 26,
     "metadata": {},
     "output_type": "execute_result"
    }
   ],
   "source": [
    "semanticUtils.getSimilarity(SemRelMeasure.Resnik, pflanze, tier, 1);"
   ]
  },
  {
   "cell_type": "code",
   "execution_count": 27,
   "metadata": {},
   "outputs": [
    {
     "data": {
      "text/plain": [
       "0.5159160829148369"
      ]
     },
     "execution_count": 27,
     "metadata": {},
     "output_type": "execute_result"
    }
   ],
   "source": [
    "semanticUtils.getSimilarity(SemRelMeasure.Resnik, roteiche, steineiche, 1);"
   ]
  },
  {
   "cell_type": "markdown",
   "metadata": {},
   "source": [
    "For a more convenient search through the ontology and the semantic relatedness computation, you can use the GermaNet web application \"Rover\":\n",
    "https://weblicht.sfs.uni-tuebingen.de/rover/"
   ]
  },
  {
   "cell_type": "markdown",
   "metadata": {},
   "source": [
    "## Inspect Lexical Units\n",
    "Every synset contains one ore several Lexical Units. The list of Lexical Units (lexunit) can be accessed for any synset. Let's inspect the lexical units for *Fußball* 'football':\n",
    "We have the lexunit *Fußballspiel* 'football match', the lexunit *Fußball* 'football' and the lexunit *Fußballsport* 'soccer'."
   ]
  },
  {
   "cell_type": "code",
   "execution_count": 28,
   "metadata": {},
   "outputs": [
    {
     "data": {
      "text/plain": [
       "[id: 29778, orth form: Fußballsport, synset id: 21624, sense: 1, source: core, named entity: false, artificial: false, style marking: false, id: 29776, orth form: Fußballspiel, synset id: 21624, sense: 2, source: core, named entity: false, artificial: false, style marking: false, id: 29777, orth form: Fußball, synset id: 21624, sense: 2, source: core, named entity: false, artificial: false, style marking: false]"
      ]
     },
     "execution_count": 28,
     "metadata": {},
     "output_type": "execute_result"
    }
   ],
   "source": [
    "fussball_synset.getLexUnits();\n"
   ]
  },
  {
   "cell_type": "markdown",
   "metadata": {},
   "source": [
    "Every lexical unit has a number of orthographical forms. There are four different orthographical forms but not every \n",
    "lexical unit has an entry for all of them:\n",
    "* main orth. form: \n",
    "* orth. variation\n",
    "* old orth. form\n",
    "* old orth. variation\n",
    "\n",
    "We can see that the lexunit for *Fußball* only has one orth form, but that one of its related synsets *Fußballklub* 'football club' has the \n",
    "orthographical variation *Fußballkclub*.\n"
   ]
  },
  {
   "cell_type": "code",
   "execution_count": 29,
   "metadata": {},
   "outputs": [
    {
     "data": {
      "text/plain": [
       "[Fußball]"
      ]
     },
     "execution_count": 29,
     "metadata": {},
     "output_type": "execute_result"
    }
   ],
   "source": [
    "LexUnit fussball_unit = germanet.getLexUnitByID(29777);\n",
    "fussball_unit.getOrthForms();"
   ]
  },
  {
   "cell_type": "code",
   "execution_count": 30,
   "metadata": {},
   "outputs": [
    {
     "data": {
      "text/plain": [
       "[Fußballklub, Fußballclub]"
      ]
     },
     "execution_count": 30,
     "metadata": {},
     "output_type": "execute_result"
    }
   ],
   "source": [
    "LexUnit fussballclub_unit = germanet.getLexUnitByID(32423);\n",
    "fussballclub_unit.getOrthForms();"
   ]
  },
  {
   "cell_type": "markdown",
   "metadata": {},
   "source": [
    "*Fußball* is a compound noun, which are very frequent in the German language. GermaNet stores information about the \n",
    "compound, for example that *Fuß* 'foot' is the modifier and *ball* 'ball' is the head."
   ]
  },
  {
   "cell_type": "code",
   "execution_count": 31,
   "metadata": {},
   "outputs": [
    {
     "data": {
      "text/plain": [
       "Fuß (Nomen) + Ball"
      ]
     },
     "execution_count": 31,
     "metadata": {},
     "output_type": "execute_result"
    }
   ],
   "source": [
    "fussball_unit.getCompoundInfo();\n"
   ]
  },
  {
   "cell_type": "markdown",
   "metadata": {},
   "source": [
    "Lexical units are related to other lexical units by different lexical relations. The most common and most general \n",
    "lexical relation is synonymy (i.e., the relation which groups lexical units into synsets), but there are other lexical relations in GermaNet as well. For example, for some compounds there has been work\n",
    "on annotating the relation between the compound and the modifier. In this example the compound *Fußball* has the manner of functioning *Fuß*.\n"
   ]
  },
  {
   "cell_type": "code",
   "execution_count": 32,
   "metadata": {},
   "outputs": [
    {
     "data": {
      "text/plain": [
       "[id: 35740, orth form: Fuß, synset id: 26149, sense: 3, source: core, named entity: false, artificial: false, style marking: false]"
      ]
     },
     "execution_count": 32,
     "metadata": {},
     "output_type": "execute_result"
    }
   ],
   "source": [
    "fussball_unit.getRelatedLexUnits(LexRel.has_manner_of_functioning, RelDirection.outgoing);"
   ]
  },
  {
   "cell_type": "markdown",
   "metadata": {},
   "source": [
    "The relations can be unidirectional (e.g. the relation \"has manner of functioning\" goes from *Fußball*\n",
    "to *Fuß*, but not the other way around. The relation can also be bidirectional, e.g. *Fußball* and *Fußballspiel* are \n",
    "synonyms of each other. If you are interested in finding out which unidirectional relations point towards *Fußball*, these\n",
    "can be accessed via \"incoming_relations\":"
   ]
  },
  {
   "cell_type": "code",
   "execution_count": 33,
   "metadata": {},
   "outputs": [
    {
     "data": {
      "text/plain": [
       "[id: 4226, orth form: fußballerisch, synset id: 2869, sense: 1, source: core, named entity: false, artificial: false, style marking: false, id: 10294, orth form: Fußballschuh, synset id: 7143, sense: 1, source: core, named entity: false, artificial: false, style marking: false, id: 13796, orth form: Fußballstadion, synset id: 9891, sense: 1, source: core, named entity: false, artificial: false, style marking: false, id: 53360, orth form: Fußballamateur, synset id: 37146, sense: 1, source: core, named entity: false, artificial: false, style marking: false, id: 88379, orth form: Fußballschule, synset id: 63191, sense: 1, source: core, named entity: false, artificial: false, style marking: false, id: 29778, orth form: Fußballsport, synset id: 21624, sense: 1, source: core, named entity: false, artificial: false, style marking: false, id: 29776, orth form: Fußballspiel, synset id: 21624, sense: 2, source: core, named entity: false, artificial: false, style marking: false]"
      ]
     },
     "execution_count": 33,
     "metadata": {},
     "output_type": "execute_result"
    }
   ],
   "source": [
    "fussball_unit.getRelatedLexUnits(RelDirection.incoming);"
   ]
  },
  {
   "cell_type": "markdown",
   "metadata": {},
   "source": [
    "Some lexical units have sense definitions, harvested from the German Wictionary. These can be accessed with the wiktionary_paraphrases field.\n"
   ]
  },
  {
   "cell_type": "code",
   "execution_count": 34,
   "metadata": {},
   "outputs": [
    {
     "data": {
      "text/plain": [
       "[LexUnit ID: 29777, Wiktionary ID: 24602, Wiktionary sense definition: Sport, Freizeit, kein Plural: eine beliebte Mannschaftssportart, welche mit 22 Spielern und einem Ball gespielt wird, edited: false]"
      ]
     },
     "execution_count": 34,
     "metadata": {},
     "output_type": "execute_result"
    }
   ],
   "source": [
    "fussball_unit.getWiktionaryParaphrases();"
   ]
  },
  {
   "cell_type": "markdown",
   "metadata": {},
   "source": [
    "Some lexical units have also been linked to the English WordNet. The can be accessed with the ili_records field. \n"
   ]
  },
  {
   "cell_type": "code",
   "execution_count": 35,
   "metadata": {},
   "outputs": [
    {
     "data": {
      "text/plain": [
       "[LexUnit ID: 29777, EWN relation: synonym, PWN word: association football, PWN 2.0 ID: ENG20-00453585-n, PWN 3.0 ID: ENG30-00478262-n, source: initial\n",
       "English synonyms from PWN 2.0: soccer\n",
       "English paraphrase from PWN 2.0: a football game in which two teams of 11 players try to kick or head a ball into the opponents' goal]"
      ]
     },
     "execution_count": 35,
     "metadata": {},
     "output_type": "execute_result"
    }
   ],
   "source": [
    "fussball_unit.getIliRecords();"
   ]
  },
  {
   "cell_type": "markdown",
   "metadata": {},
   "source": [
    "Lexical units which are verbs provide information on language use by giving at least one example sentence.\n"
   ]
  },
  {
   "cell_type": "code",
   "execution_count": 36,
   "metadata": {},
   "outputs": [
    {
     "data": {
      "text/plain": [
       "[Er hatte den Ball ins Tor geschossen., frame: NN.AN.BD]"
      ]
     },
     "execution_count": 36,
     "metadata": {},
     "output_type": "execute_result"
    }
   ],
   "source": [
    "LexUnit schiessen = germanet.getLexUnitByID(80272);\n",
    "schiessen.getExamples();"
   ]
  },
  {
   "cell_type": "markdown",
   "metadata": {},
   "source": [
    "They are also annotated with subcategorisation patterns / verb complementations (frames). For the given example, the frame specifies that the verb can take accusative complements (AN)"
   ]
  },
  {
   "cell_type": "code",
   "execution_count": 37,
   "metadata": {},
   "outputs": [
    {
     "data": {
      "text/plain": [
       "[NN.AN.BD]"
      ]
     },
     "execution_count": 37,
     "metadata": {},
     "output_type": "execute_result"
    }
   ],
   "source": [
    "schiessen.getFrames();"
   ]
  },
  {
   "cell_type": "markdown",
   "metadata": {},
   "source": [
    "## How to extract a large number of examples by applying a filter function\n",
    "If you would like to extract several lexical units or synsets from GermaNet that fulfill certain conditions you can create a filter configuration. For example, filter configurations allow you to search for words of specific\n",
    "Word Classes (e.g. you might be interested in extracting all abstract nouns) or to extract all words that \n",
    "contain a specific subword.\n",
    "\n",
    "To perform a search you have to create a filter configuration object. You have to pass a search string as an argument. All other options have defaults but you can override these defaults to refine your search.\n"
   ]
  },
  {
   "cell_type": "markdown",
   "metadata": {},
   "source": [
    "For example, we can search for *schießen* 'shoot' but ignore upper or lowercasing in different orthforms:"
   ]
  },
  {
   "cell_type": "code",
   "execution_count": 38,
   "metadata": {},
   "outputs": [
    {
     "data": {
      "text/plain": [
       "[id: 123485, orth forms: [schießen], id: 59153, orth forms: [schießen, knipsen], paraphrases: dilettantisch fotografieren, Bilder machen, id: 21555, orth forms: [Schießsport, Sportschießen, Schießen], id: 56664, orth forms: [schießen], paraphrases: (an einer bestimmten Stelle) mit einem Schuss treffen; mit einem Schuss treffen, id: 60205, orth forms: [schießen, erlegen], paraphrases: Tiere auf der Jagd erlegen; Jägersprache: ein relativ großes Tier bei der Jagd töten, meist durch einen Schuss (Rehe, Hirschen, etc.); (in Bezug auf Wild) erlegen, id: 56650, orth forms: [schießen], paraphrases: einen Schuss/Schüsse abgeben; einen Schuss abgeben, id: 57998, orth forms: [schießen, stürmen, stürzen], paraphrases: mit hoher Geschwindigkeit bewegen, id: 56962, orth forms: [schießen], paraphrases: den Ball mit dem Fuß an eine bestimmte Stelle befördern; einen Ball (mit dem Fuss) fortbewegen]"
      ]
     },
     "execution_count": 38,
     "metadata": {},
     "output_type": "execute_result"
    }
   ],
   "source": [
    "//we can search for \"schuss\" but we don't want to care about upper or lowercasing and about different orthforms.\n",
    "//as a default words with all word categories and word classes will be added\n",
    "FilterConfig filterconfig = new FilterConfig(\"schießen\");\n",
    "filterconfig.setIgnoreCase(true);\n",
    "germanet.getSynsets(filterconfig);"
   ]
  },
  {
   "cell_type": "markdown",
   "metadata": {},
   "source": [
    "Let's now limit the results to synsets of a specific semantic class:"
   ]
  },
  {
   "cell_type": "code",
   "execution_count": 39,
   "metadata": {},
   "outputs": [
    {
     "data": {
      "text/plain": [
       "[id: 56664, orth forms: [schießen], paraphrases: (an einer bestimmten Stelle) mit einem Schuss treffen; mit einem Schuss treffen, id: 56650, orth forms: [schießen], paraphrases: einen Schuss/Schüsse abgeben; einen Schuss abgeben]"
      ]
     },
     "execution_count": 39,
     "metadata": {},
     "output_type": "execute_result"
    }
   ],
   "source": [
    "filterconfig.setWordClasses(WordClass.Konkurrenz);\n",
    "germanet.getSynsets(filterconfig);"
   ]
  },
  {
   "cell_type": "markdown",
   "metadata": {},
   "source": [
    "If we now filter by word category and use only nouns, our result will be empty because there is no entry for 'schießen' as a noun:"
   ]
  },
  {
   "cell_type": "code",
   "execution_count": 40,
   "metadata": {},
   "outputs": [
    {
     "data": {
      "text/plain": [
       "[]"
      ]
     },
     "execution_count": 40,
     "metadata": {},
     "output_type": "execute_result"
    }
   ],
   "source": [
    "filterconfig.setWordCategories(WordCategory.nomen);\n",
    "germanet.getSynsets(filterconfig);"
   ]
  },
  {
   "cell_type": "markdown",
   "metadata": {},
   "source": [
    "Besides using full words as search strings we can use regular expressions. This can be very useful if you are interested \n",
    "in words with certain character sequences. The next example shows how to extract all words that end with *kuchen*:\n"
   ]
  },
  {
   "cell_type": "code",
   "execution_count": 41,
   "metadata": {},
   "outputs": [
    {
     "name": "stdout",
     "output_type": "stream",
     "text": [
      "Found  54 words that end with 'kuchen' in GermaNet \n",
      " An example of such is: id: 111562, orth form: Buchweizenpfannkuchen, synset id: 82694, sense: 1, source: core, named entity: false, artificial: false, style marking: false \n",
      " Another example is : id: 118233, orth form: Gewürzkuchen, synset id: 87859, sense: 1, source: core, named entity: false, artificial: false, style marking: false\n"
     ]
    }
   ],
   "source": [
    "FilterConfig filterconfig = new FilterConfig(\".*kuchen\");\n",
    "filterconfig.setRegEx(true);\n",
    "filterconfig.setWordCategories(WordCategory.nomen);\n",
    "List<LexUnit> result = germanet.getLexUnits(filterconfig);\n",
    "System.out.println(String.format(\"Found  %d words that end with 'kuchen' in GermaNet \\n An example of such is: %s \\n Another example is : %s\"\n",
    "      , result.size(), result.get(0).toString(), result.get(10).toString()));"
   ]
  },
  {
   "cell_type": "markdown",
   "metadata": {},
   "source": [
    "This example extracts all nouns that contain whitespace or a hyphen (useful for example to extract multiword expressions):"
   ]
  },
  {
   "cell_type": "code",
   "execution_count": 42,
   "metadata": {},
   "outputs": [
    {
     "name": "stdout",
     "output_type": "stream",
     "text": [
      "\n",
      "Found  5419 multiword expressions with whitespace or hypen in GermaNet \n",
      " An example of such is: id: 15157, orth form: Offenbarung des Johannes, synset id: 10909, sense: 1, source: core, named entity: false, artificial: false, style marking: false \n",
      " Another example is : id: 66741, orth form: Motten-Königskerze, synset id: 46513, sense: 1, source: core, named entity: false, artificial: false, style marking: false\n"
     ]
    }
   ],
   "source": [
    "// extract all words that contain a white space or a hyphen\n",
    "FilterConfig filterconfig = new FilterConfig(\".+(\\\\s|-).+\");\n",
    "filterconfig.setRegEx(true);\n",
    "filterconfig.setWordCategories(WordCategory.nomen);\n",
    "List<LexUnit> result = germanet.getLexUnits(filterconfig);\n",
    "System.out.println(String.format(\"\\nFound  %d multiword expressions with whitespace or hypen in GermaNet \\n An example of such is: %s \\n Another example is : %s\"\n",
    "      , result.size(), result.get(0).toString(), result.get(10).toString()));"
   ]
  },
  {
   "cell_type": "markdown",
   "metadata": {},
   "source": [
    "And this example extracts verbs that contain 'ff' or 'ss':   "
   ]
  },
  {
   "cell_type": "code",
   "execution_count": 43,
   "metadata": {},
   "outputs": [
    {
     "name": "stdout",
     "output_type": "stream",
     "text": [
      "\n",
      "Found  974 verbs with double s or double f in GermaNet \n",
      " An example of such is: id: 159384, orth form: hineinpressen, synset id: 120024, sense: 1, source: core, named entity: false, artificial: false, style marking: false \n",
      " Another example is : id: 194913, orth form: auffalten, synset id: 150207, sense: 2, source: core, named entity: false, artificial: false, style marking: false\n"
     ]
    }
   ],
   "source": [
    "// extract all verbs that contain exactly two 'ss' or two 'ff'\n",
    "FilterConfig filterconfig = new FilterConfig(\".+(f{2,}|s{2,}).+\");\n",
    "filterconfig.setRegEx(true);\n",
    "filterconfig.setWordCategories(WordCategory.verben);\n",
    "List<LexUnit> result = germanet.getLexUnits(filterconfig);\n",
    "System.out.println(String.format(\"\\nFound  %d verbs with double s or double f in GermaNet \\n An example of such is: %s \\n Another example is : %s\"\n",
    "      , result.size(), result.get(1).toString(), result.get(10).toString()));"
   ]
  },
  {
   "cell_type": "code",
   "execution_count": null,
   "metadata": {},
   "outputs": [],
   "source": []
  }
 ],
 "metadata": {
  "kernelspec": {
   "display_name": "Java",
   "language": "java",
   "name": "java"
  },
  "language_info": {
   "codemirror_mode": "java",
   "file_extension": ".jshell",
   "mimetype": "text/x-java-source",
   "name": "Java",
   "pygments_lexer": "java",
   "version": "12.0.1+12"
  }
 },
 "nbformat": 4,
 "nbformat_minor": 2
}
