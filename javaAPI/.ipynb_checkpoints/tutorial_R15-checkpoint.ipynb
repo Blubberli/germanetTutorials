{
 "cells": [
  {
   "cell_type": "markdown",
   "metadata": {},
   "source": [
    "# Getting started with the Java API\n",
    "The API can be added to your project by either downlowding the jar file or adding the following dependency to your pom.xml: "
   ]
  },
  {
   "cell_type": "code",
   "execution_count": 1,
   "metadata": {},
   "outputs": [],
   "source": [
    "%%loadFromPOM\n",
    "<dependency>\n",
    "  <groupId>de.tuebingen.uni.sfs.germanet</groupId>\n",
    "  <artifactId>germanet-api</artifactId>\n",
    "  <version>13.2.1</version>\n",
    "</dependency>"
   ]
  },
  {
   "cell_type": "markdown",
   "metadata": {},
   "source": [
    "The API does some logging, for example when the GermaNet data is loaded, each XML-file will be logged once loaded. If your project does not include any logging library (e.g. logback-classic) you will get a warning message. If you want to see the logs you can add this dependency:"
   ]
  },
  {
   "cell_type": "raw",
   "metadata": {},
   "source": [
    "<dependency>\n",
    "    <groupId>ch.qos.logback</groupId>\n",
    "    <artifactId>logback-classic</artifactId>\n",
    "    <version>1.2.3</version>\n",
    "</dependency>"
   ]
  },
  {
   "cell_type": "markdown",
   "metadata": {},
   "source": [
    "Once you added the GermaNet dependency to your project, you can import the API:"
   ]
  },
  {
   "cell_type": "code",
   "execution_count": 2,
   "metadata": {},
   "outputs": [],
   "source": [
    "import de.tuebingen.uni.sfs.germanet.api.*;"
   ]
  },
  {
   "cell_type": "markdown",
   "metadata": {},
   "source": [
    "Whenever you want to use the API, the first thing you would do is to create a GermaNet object as this loads the data and provides access to it. The data (all XML files) have to be stored in one directory which has to be specified as the first argument when you construct the GermaNet object. If you want to run this code, put your XML files in a \"germanet_data\" directory in your home directory or change the path to the location on your computer.\n",
    "The API also provides methods to compute semantic similarity / relatedness between words (Synsets). To be able to use all of them you have to provide frequency lists for each word category. These lists can be downloaded from:\n",
    "\n"
   ]
  },
  {
   "cell_type": "code",
   "execution_count": 3,
   "metadata": {},
   "outputs": [
    {
     "name": "stdout",
     "output_type": "stream",
     "text": [
      "/Users/nwitte/PycharmProjects/germanetpy/data\n"
     ]
    },
    {
     "name": "stderr",
     "output_type": "stream",
     "text": [
      "SLF4J: Failed to load class \"org.slf4j.impl.StaticLoggerBinder\".\n",
      "SLF4J: Defaulting to no-operation (NOP) logger implementation\n",
      "SLF4J: See http://www.slf4j.org/codes.html#StaticLoggerBinder for further details.\n"
     ]
    },
    {
     "name": "stdout",
     "output_type": "stream",
     "text": [
      "Germanet loaded.\n"
     ]
    }
   ],
   "source": [
    "String userHome = System.getProperty(\"user.home\");\n",
    "String data_path = userHome+\"/germanet_data\";\n",
    "String nounFreqListPath = data_path + \"/noun_freqs_decow14_16.txt\";\n",
    "String verbFreqListPath = data_path + \"/verb_freqs_decow14_16.txt\";\n",
    "String adjFreqListPath = data_path + \"/adj_freqs_decow14_16.txt\";\n",
    "System.out.println(data_path);\n",
    "//GermaNet germanet = new GermaNet(data_path, false);\n",
    "GermaNet germanet = new GermaNet(data_path, nounFreqListPath, verbFreqListPath, adjFreqListPath);\n",
    "System.out.println(\"Germanet loaded.\")"
   ]
  },
  {
   "cell_type": "markdown",
   "metadata": {},
   "source": [
    "The data has been loaded and we can now use the API to extract specific information from the data."
   ]
  },
  {
   "cell_type": "code",
   "execution_count": null,
   "metadata": {},
   "outputs": [],
   "source": []
  },
  {
   "cell_type": "markdown",
   "metadata": {},
   "source": [
    "# How to inspect information for a single word input\n",
    "## Inspect synsets\n",
    "Let's consider the input word *Fußball* 'football'. The following code snippet shows how to extract all synsets given an input wordform. Many words are ambiguous and thus, *Fußball* belongs to two synsets (One represents the ball and one the activity). The string representations include information such as the forms of the corresponding lexical units or sense descriptions (paraphrases), which can be helpful when you want to select a specific meaning for a given word. In this case, let's say we are interested in the second meaning of Fußball, namely the game and not the ball."
   ]
  },
  {
   "cell_type": "code",
   "execution_count": 4,
   "metadata": {},
   "outputs": [
    {
     "name": "stdout",
     "output_type": "stream",
     "text": [
      "The input has 2 senses\n",
      "\n",
      "id: 7944, orth forms: [Fußball], paraphrases: Sport, Freizeit: ein Ball zur Ausübung des Sportes\n",
      "id: 21624, orth forms: [Fußball, Fußballspiel, Fußballsport], paraphrases: Sport, Freizeit, kein Plural: eine beliebte Mannschaftssportart, welche mit 22 Spielern und einem Ball gespielt wird\n"
     ]
    }
   ],
   "source": [
    "List <Synset> fussball_synsets = germanet.getSynsets(\"Fußball\");\n",
    "// the lengths of the retrieved list is equal to the number of possible senses for a word, in this case 2\n",
    "System.out.println(String.format(\"The input has %d senses\\n\", fussball_synsets.size()));\n",
    "for (Synset synset : fussball_synsets){\n",
    "    System.out.println(synset.toString());\n",
    "}\n",
    "Synset fussball_synset = germanet.getSynsetByID(21624);"
   ]
  },
  {
   "cell_type": "markdown",
   "metadata": {},
   "source": [
    "Every synset has a number of properties that can be extracted. Each synset has a unique id. A synset can have one of three possible word categories (WorbCategory.verben, WordCategory.nomen, WordCategory.adj). \n",
    "For each of the word categories the semantic space is divided into a number of semantic fields. (e.g *Besitz*,\n",
    "*Kommunikation*, *Geschehen*...), called WordClass. The word classes that belong to a certain word category can be looked up."
   ]
  },
  {
   "cell_type": "code",
   "execution_count": 5,
   "metadata": {},
   "outputs": [
    {
     "name": "stdout",
     "output_type": "stream",
     "text": [
      "The synset id is 21624; the synset belongs to the word category nomen \n",
      " and to the semantic field Geschehen.\n"
     ]
    },
    {
     "data": {
      "text/plain": [
       "[Allgemein, Gefuehl, Gesellschaft, Koerper, natPhaenomen, Perzeption, Besitz, Kognition, Kommunikation, Koerperfunktion, Konkurrenz, Kontakt, Lokation, Schoepfung, Veraenderung, Verbrauch]"
      ]
     },
     "execution_count": 5,
     "metadata": {},
     "output_type": "execute_result"
    }
   ],
   "source": [
    "int id = fussball_synset.getId();\n",
    "WordCategory word_category = fussball_synset.getWordCategory();\n",
    "WordClass semantic_field = fussball_synset.getWordClass();\n",
    "System.out.println(String.format(\"The synset id is %d; the synset belongs to the word category %s \\n and to the semantic field %s.\", id, word_category, semantic_field));\n",
    "// returns the possible WordClasses of verbs\n",
    "WordCategory.verben.getWordClasses();"
   ]
  },
  {
   "cell_type": "markdown",
   "metadata": {},
   "source": [
    "Synsets are related to other synsets via conceptual relations (ConRel). The most important relation is the hypernymy\n",
    "/ hyponymy relation. Direct hypernyms of a synset (one level above) and hyponyms (one level below) can be accessed through the relations has_hypernym and has_hyponym."
   ]
  },
  {
   "cell_type": "code",
   "execution_count": 6,
   "metadata": {},
   "outputs": [
    {
     "name": "stdout",
     "output_type": "stream",
     "text": [
      "One example hypernym of Fußball is : \n",
      "id: 21606, orth forms: [Ballspiel, Ballsportart, Ballsport], paraphrases: Ein Spiel, das mit einem Ball gespielt wird; Eine Sportart, die mit einem Ball betrieben wird\n",
      "One example hyponym of Fußball is : \n",
      "id: 79925, orth forms: [Hallenfußball]\n"
     ]
    }
   ],
   "source": [
    "List<Synset> direct_hypernyms = fussball_synset.getRelatedSynsets(ConRel.has_hypernym);\n",
    "List<Synset> direct_hyponyms = fussball_synset.getRelatedSynsets(ConRel.has_hyponym);\n",
    "Synset hypernym = direct_hypernyms.get(0);\n",
    "System.out.println(\"One example hypernym of Fußball is : \");\n",
    "System.out.println(hypernym.toString());\n",
    "Synset hyponym = direct_hyponyms.get(0);\n",
    "System.out.println(\"One example hyponym of Fußball is : \");\n",
    "System.out.println(hyponym.toString());\n"
   ]
  },
  {
   "cell_type": "markdown",
   "metadata": {},
   "source": [
    "The Synset *Fußball* has exactly one hypernym and several hyponyms. It is also possible to list all hypernyms\n",
    "from *Fußball* to the top node (root node). The level where the *Fußball* synset is attached to the Graph is called depth and\n",
    "can also be accessed.\n"
   ]
  },
  {
   "cell_type": "code",
   "execution_count": 7,
   "metadata": {},
   "outputs": [
    {
     "name": "stdout",
     "output_type": "stream",
     "text": [
      "[[Veranstaltung], [qualitative Beziehung], [Sport, Sportdisziplin, Sportart, Disziplin], [Ereignis], [Ballspiel, Ballsportart, Ballsport], [Verhältnis, Relation, Beziehung], [Situation], [Wettkampf, Kampf], [GNROOT], [Sportwettkampf], [Tat, Tätigkeit, Handlung, Aktivität], [Zustand], [Spiel, Sportspiel, Partie, Match], [Geschehen, Geschehnis], [Sportereignis, Sportveranstaltung], [Konflikt, Auseinandersetzung]]\n",
      "The synset has a depth of 8 and has 16 distinct hypernym synsets\n"
     ]
    }
   ],
   "source": [
    "Set all_hypernyms = new HashSet();\n",
    "List<List<Synset>> transitive_closure = fussball_synset.getTransRelatedSynsets(ConRel.has_hypernym);\n",
    "for (List<Synset> p : transitive_closure){\n",
    "    for (Synset hypernym: p){\n",
    "        if (!hypernym.equals(fussball_synset)) {\n",
    "        all_hypernyms.add(hypernym.getAllOrthForms());\n",
    "        }\n",
    "    }\n",
    "}\n",
    "\n",
    "System.out.println(all_hypernyms);\n",
    "System.out.println(String.format(\"The synset has a depth of %d and has %d distinct hypernym synsets\", fussball_synset.getDepth(), all_hypernyms.size()));"
   ]
  },
  {
   "cell_type": "markdown",
   "metadata": {},
   "source": [
    "## Use the semantic utils to measure semantic similarity / relatedness\n",
    "You can also use the API to compare a synset with another synset. These methods work only for two synsets that have the \n",
    "same word category, for example for two nouns.\n",
    "There are two different types of similarity measures.\n",
    "- path-based measures\n",
    "- information-content-based measures\n",
    "\n",
    "Path-based measures compute the semantic relatedness between two concepts based on the shortest path between two synsets. The shortest path is the minimal number of nodes you have to walk from the source synset to the target synset.\n",
    "Different measures weigh or normalize the path-length in different ways.\n",
    "\n",
    "To use the measures you first have to create a SemanticUtils object:\n"
   ]
  },
  {
   "cell_type": "code",
   "execution_count": 9,
   "metadata": {},
   "outputs": [],
   "source": [
    "SemanticUtils semanticUtils = germanet.getSemanticUtils();\n"
   ]
  },
  {
   "cell_type": "markdown",
   "metadata": {},
   "source": [
    "The following example shows, how to use the path-based relatedness measures to check whether *Trompete* 'trumpet' is more related to \n",
    "*Posaune* 'trombone' than to *Flöte* 'flute' and how to disambiguate *Flügel* 'wing', 'blade', 'grand' in the context of *Klavier* 'piano'."
   ]
  },
  {
   "cell_type": "code",
   "execution_count": 10,
   "metadata": {},
   "outputs": [
    {
     "name": "stdout",
     "output_type": "stream",
     "text": [
      "id: 11590, orth forms: [Trompete], paraphrases: Musik: Hohes Blechblasinstrument mit einem Kesselmundstück\n",
      "id: 11572, orth forms: [Flöte], paraphrases: ein Blasinstrument, ein Musikinstrument\n",
      "id: 11589, orth forms: [Posaune], paraphrases: Musik: ein Blechblasinstrument mit einem Zug zum verändern des Tones\n",
      "id: 11619, orth forms: [Piano, Klavier, Pianoforte], paraphrases: Tasteninstrument, dessen Klang durch Saiten erzeugt wird; Klavier, Abkürzung für Pianoforte. (Am Klavier kann man im Gegensatz zum Cembalo die Dynamik verändern.)\n",
      "\n",
      "The word Flügel has the following synsets:\n",
      "id: 9697, orth forms: [Flügel, Seitenflügel], paraphrases: Architektur, Bauwesen: Gebäudeteil; Teilgebäude eines größeren Gebäudekomplexes (wie zum Beispiel eines Schlosses)\n",
      "id: 12102, orth forms: [Flügel, Rotorblatt], paraphrases: Technik: eine flügelartige Verlängerung an einem Bauteil; Flugwesen, Raumfahrt, Flugzeugbau: ein Teil eines Fluggerätes, eines Raumfahrzeuges\n",
      "id: 73683, orth forms: [Flügel], paraphrases: Sport: ein Teil einer spielenden Mannschaft bei verschiedenen Mannschaftssportarten (unter Anderem im Fußball, Handball, Eishockey)\n",
      "id: 73727, orth forms: [Flügel], paraphrases: ein Teil (oft eine Hälfte) symmetrischer oder symmetrisch angeordneter Formen, Gebilde, Körper\n",
      "id: 23151, orth forms: [Flügel, Parteiflügel], paraphrases: Politik: ein Teil einer politischen Partei oder einer Vereinigung (linker, rechter Flügel)\n",
      "id: 11625, orth forms: [Flügel], paraphrases: Musik, Musikinstrumentenbau: ein großes Klavier, besonders für Konzerte, dessen Deckel meist geöffnet ist, wenn man darauf spielt\n",
      "id: 26446, orth forms: [Flügel, Schwinge], paraphrases: Biologie, Zoologie: ein Körperteil eines Tieres (wie Insekt, Vogel), der funktional zum Fliegen befähigen kann\n",
      "\n",
      "Based on the simple path measure, is Trompete more similar to Posaune, than to Flöte? true\n",
      "\n",
      " These are the similarities between the synset for Klavier and id: 9697, orth forms: [Flügel, Seitenflügel], paraphrases: Architektur, Bauwesen: Gebäudeteil; Teilgebäude eines größeren Gebäudekomplexes (wie zum Beispiel eines Schlosses) : \n",
      " Simple Path : 0,74\n",
      " Leackock and Chodorow: 0,36\n",
      " Wu and Palmer : 0,40\n",
      "\n",
      " These are the similarities between the synset for Klavier and id: 12102, orth forms: [Flügel, Rotorblatt], paraphrases: Technik: eine flügelartige Verlängerung an einem Bauteil; Flugwesen, Raumfahrt, Flugzeugbau: ein Teil eines Fluggerätes, eines Raumfahrzeuges : \n",
      " Simple Path : 0,80\n",
      " Leackock and Chodorow: 0,42\n",
      " Wu and Palmer : 0,53\n",
      "\n",
      " These are the similarities between the synset for Klavier and id: 73683, orth forms: [Flügel], paraphrases: Sport: ein Teil einer spielenden Mannschaft bei verschiedenen Mannschaftssportarten (unter Anderem im Fußball, Handball, Eishockey) : \n",
      " Simple Path : 0,69\n",
      " Leackock and Chodorow: 0,31\n",
      " Wu and Palmer : 0,35\n",
      "\n",
      " These are the similarities between the synset for Klavier and id: 73727, orth forms: [Flügel], paraphrases: ein Teil (oft eine Hälfte) symmetrischer oder symmetrisch angeordneter Formen, Gebilde, Körper : \n",
      " Simple Path : 0,77\n",
      " Leackock and Chodorow: 0,39\n",
      " Wu and Palmer : 0,43\n",
      "\n",
      " These are the similarities between the synset for Klavier and id: 23151, orth forms: [Flügel, Parteiflügel], paraphrases: Politik: ein Teil einer politischen Partei oder einer Vereinigung (linker, rechter Flügel) : \n",
      " Simple Path : 0,66\n",
      " Leackock and Chodorow: 0,28\n",
      " Wu and Palmer : 0,33\n",
      "\n",
      " These are the similarities between the synset for Klavier and id: 11625, orth forms: [Flügel], paraphrases: Musik, Musikinstrumentenbau: ein großes Klavier, besonders für Konzerte, dessen Deckel meist geöffnet ist, wenn man darauf spielt : \n",
      " Simple Path : 0,94\n",
      " Leackock and Chodorow: 0,69\n",
      " Wu and Palmer : 0,89\n",
      "\n",
      " These are the similarities between the synset for Klavier and id: 26446, orth forms: [Flügel, Schwinge], paraphrases: Biologie, Zoologie: ein Körperteil eines Tieres (wie Insekt, Vogel), der funktional zum Fliegen befähigen kann : \n",
      " Simple Path : 0,69\n",
      " Leackock and Chodorow: 0,31\n",
      " Wu and Palmer : 0,27\n",
      "\n",
      "The most similar synset out of all synsets corresponding to the word 'Flügel' is : id: 11625, orth forms: [Flügel], paraphrases: Musik, Musikinstrumentenbau: ein großes Klavier, besonders für Konzerte, dessen Deckel meist geöffnet ist, wenn man darauf spielt\n"
     ]
    }
   ],
   "source": [
    "Synset trompete = germanet.getSynsets(\"Trompete\").get(0);\n",
    "System.out.println(trompete.toString());\n",
    "Synset flöte = germanet.getSynsets(\"Flöte\").get(0);\n",
    "System.out.println(flöte.toString());\n",
    "Synset posaune = germanet.getSynsets(\"Posaune\").get(0);\n",
    "System.out.println(posaune.toString());\n",
    "Synset klavier = germanet.getSynsets(\"Klavier\").get(0);\n",
    "System.out.println(klavier.toString());\n",
    "List<Synset> flügel_synsets = germanet.getSynsets(\"Flügel\");\n",
    "System.out.println(\"\\nThe word Flügel has the following synsets:\");\n",
    "for (Synset s : flügel_synsets) {\n",
    "    System.out.println(s);\n",
    "}\n",
    "\n",
    "Double trompete_posaune = semanticUtils.getSimilaritySimplePath(trompete, posaune, 10);\n",
    "Double trompete_flöte = semanticUtils.getSimilaritySimplePath(trompete, flöte, 10);\n",
    "\n",
    "System.out.println(String.format(\"\\nBased on the simple path measure, is Trompete more similar to Posaune, than to Flöte? %b\" , (trompete_posaune > trompete_flöte)));\n",
    "\n",
    "Double highest_sim_simple = 0.0;\n",
    "Double highest_sim_leacock = 0.0;\n",
    "Double highest_sim_wu = 0.0;\n",
    "Synset most_similar_synset = null;\n",
    "for (Synset synset : flügel_synsets){\n",
    "    if (synset.getWordCategory().equals(WordCategory.nomen)){\n",
    "        Double sim_simple = semanticUtils.getSimilarity(SemRelMeasure.SimplePath, synset, klavier, 1);\n",
    "        Double sim_leacock = semanticUtils.getSimilarity(SemRelMeasure.LeacockAndChodorow, synset, klavier, 1);\n",
    "        Double sim_wu = semanticUtils.getSimilarity(SemRelMeasure.WuAndPalmer, synset, klavier, 1);\n",
    "        System.out.println(String.format(\"\\n These are the similarities between the synset for Klavier and %s : \\n Simple Path : %.2f\\n Leackock and Chodorow: %.2f\\n Wu and Palmer : %.2f\", synset.toString(), sim_simple, sim_leacock, sim_wu));\n",
    "        if (sim_simple > highest_sim_simple && sim_leacock > highest_sim_leacock && sim_wu > highest_sim_wu ){\n",
    "            highest_sim_simple = sim_simple;\n",
    "            highest_sim_leacock = sim_leacock;\n",
    "            highest_sim_wu = sim_wu;\n",
    "            most_similar_synset = synset;\n",
    "            }\n",
    "        }\n",
    "}\n",
    "System.out.println(String.format(\"\\nThe most similar synset out of all synsets corresponding to the word 'Flügel' is : %s\" , most_similar_synset.toString()));"
   ]
  },
  {
   "cell_type": "markdown",
   "metadata": {},
   "source": [
    "Information-content-based measures augment the structural distances, captured by the taxonomy with word frequencies. Thus the problem of lacking uniform distances in the Graph can be reduced by providing additional information about the typicality of words. The frequencies are used to compute the information content, which graduates concepts from specific to general.\n",
    "If a very specific synset is compared to a very general one, the relatedness will be low. The relatedness is measured based on the information content of the lowest common subsumer (the lowest synset in the hierachy that is hypernym to both synsets that are compared to each other).\n",
    "\n",
    "The following code snippet shows the advantage of the IC-based measures. While path-based measures would classify the word pair *Pflanze* 'plant', *Tier* 'animal' as bein almost as similar as the word pair *Roteiche* 'red oak' and *Steineiche* 'holm oak', the IC-based measures distinguish whether two synsets are very general or more specific and consequently assign a higher similarity score to the second word pair.\n"
   ]
  },
  {
   "cell_type": "code",
   "execution_count": 11,
   "metadata": {},
   "outputs": [
    {
     "name": "stdout",
     "output_type": "stream",
     "text": [
      "path-based similarity between Pflanze and Tier: 0,61, between Roteiche and Steineiche 0,69\n",
      "ic-based similarity between Pflanze and Tier: 0,11, between Roteiche and Steineiche 0,52\n"
     ]
    }
   ],
   "source": [
    "Synset pflanze = germanet.getSynsetByID(44960);\n",
    "Synset tier = germanet.getSynsetByID(48805);\n",
    "Double sim_leacock_pflanze_tier = semanticUtils.getSimilarity(SemRelMeasure.LeacockAndChodorow, pflanze, tier, 1);\n",
    "Synset roteiche = germanet.getSynsetByID(46054);\n",
    "Synset steineiche = germanet.getSynsetByID(46056);\n",
    "Double sim_leacock_roteiche_steineiche = semanticUtils.getSimilarity(SemRelMeasure.LeacockAndChodorow, roteiche, steineiche, 1);\n",
    "System.out.println(String.format(\"path-based similarity between Pflanze and Tier: %.2f, between Roteiche and Steineiche %.2f\", sim_leacock_pflanze_tier, sim_leacock_roteiche_steineiche));\n",
    "\n",
    "Double sim_resnik_pflanze_tier = semanticUtils.getSimilarity(SemRelMeasure.Resnik, pflanze, tier, 1);\n",
    "Double sim_resnik_roteiche_steineiche = semanticUtils.getSimilarity(SemRelMeasure.Resnik, roteiche, steineiche, 1);\n",
    "System.out.println(String.format(\"ic-based similarity between Pflanze and Tier: %.2f, between Roteiche and Steineiche %.2f\", sim_resnik_pflanze_tier, sim_resnik_roteiche_steineiche));"
   ]
  },
  {
   "cell_type": "markdown",
   "metadata": {},
   "source": [
    "For a more convenient search through the ontology and the semantic relatedness computation, you can use the GermaNet web application \"Rover\":\n",
    "https://weblicht.sfs.uni-tuebingen.de/rover/"
   ]
  },
  {
   "cell_type": "markdown",
   "metadata": {},
   "source": [
    "### Inspect Lexical Units\n",
    "Every synset contains one ore several Lexical Units. The list of Lexical Units (lexunit) can be accessed for any synset. Let's inspect the lexical units for *Fußball* 'football':\n",
    "We have the lexunit *Fußballspiel* 'football match', the lexunit *Fußball* 'football' and the lexunit *Fußballsport* 'soccer ball'."
   ]
  },
  {
   "cell_type": "code",
   "execution_count": 142,
   "metadata": {},
   "outputs": [
    {
     "name": "stdout",
     "output_type": "stream",
     "text": [
      "[id: 29778, orth form: Fußballsport, synset id: 21624, sense: 1, source: core, named entity: false, artificial: false, style marking: false, id: 29776, orth form: Fußballspiel, synset id: 21624, sense: 2, source: core, named entity: false, artificial: false, style marking: false, id: 29777, orth form: Fußball, synset id: 21624, sense: 2, source: core, named entity: false, artificial: false, style marking: false]\n"
     ]
    }
   ],
   "source": [
    "List<LexUnit> lexical_units_fussball = fussball_synset.getLexUnits();\n",
    "System.out.println(lexical_units_fussball);\n"
   ]
  },
  {
   "cell_type": "markdown",
   "metadata": {},
   "source": [
    "Every lexical unit has a number of orthographical forms. There are four different orthographical forms but not every \n",
    "lexical unit has an entry for all of them:\n",
    "* main orth. form: \n",
    "* orth. variation\n",
    "* old orth. form\n",
    "* old orth. variation\n",
    "\n",
    "We can see that the lexunit for *Fußball* only has one orth form, but that one of its related synsets *Fußballklub* 'football club' has the \n",
    "orthographical variation *Fußballkclub*.\n"
   ]
  },
  {
   "cell_type": "code",
   "execution_count": 143,
   "metadata": {},
   "outputs": [
    {
     "name": "stdout",
     "output_type": "stream",
     "text": [
      "[Fußball]\n",
      "[Fußballklub, Fußballclub]\n"
     ]
    }
   ],
   "source": [
    "LexUnit fussball_unit = germanet.getLexUnitByID(29777);\n",
    "List<String> orth_forms = fussball_unit.getOrthForms();\n",
    "System.out.println(orth_forms);\n",
    "LexUnit fussballclub_unit = germanet.getLexUnitByID(32423);\n",
    "List<String> orth_forms = fussballclub_unit.getOrthForms();\n",
    "System.out.println(orth_forms)"
   ]
  },
  {
   "cell_type": "markdown",
   "metadata": {},
   "source": [
    "*Fußball* is a compound, which are very frequent in the German language. GermaNet stores information about the \n",
    "compound, for example that *Fuß* 'foot' is the modifier and *ball* 'ball' is the head."
   ]
  },
  {
   "cell_type": "code",
   "execution_count": 144,
   "metadata": {},
   "outputs": [
    {
     "name": "stdout",
     "output_type": "stream",
     "text": [
      "Fuß (Nomen) + Ball\n"
     ]
    }
   ],
   "source": [
    "System.out.println(fussball_unit.getCompoundInfo().toString());\n"
   ]
  },
  {
   "cell_type": "markdown",
   "metadata": {},
   "source": [
    "Lexical units are related to other lexical units by different lexical relations. The most common and most general \n",
    "lexical relation is synonymy, but there are other relations annotated as well.\n",
    "\n",
    "For example, for some compounds there has been work\n",
    "on annotating the relation between the compound and the modifier. In this example the compound *Fußball* has the manner \n",
    "functioning of *Fuß*. \n",
    "\n",
    "The relations can be unidirectional (e.g. the relation \"has manner of functioning\" goes from *Fußball*\n",
    "to *Fuß*, but not the other way around. The relation can also be bidirectional, e.g. *Fußball* and *Fußballspiel* are \n",
    "synonyms of each other. If you are interested in finding out which unidirectional relations point towards *Fußball*, these\n",
    "can be accessed via \"incoming_relations\":"
   ]
  },
  {
   "cell_type": "code",
   "execution_count": 145,
   "metadata": {},
   "outputs": [
    {
     "name": "stdout",
     "output_type": "stream",
     "text": [
      "A related lexical unit related to Fußball via an outgoing relation (has_manner_of_functioning) is, for example :\n",
      "id: 35740, orth form: Fuß, synset id: 26149, sense: 3, source: core, named entity: false, artificial: false, style marking: false\n",
      "\n",
      " A related lexical unit related to Fußball via an incoming relation (pertainymy) is, for example : \n",
      "id: 4226, orth form: fußballerisch, synset id: 2869, sense: 1, source: core, named entity: false, artificial: false, style marking: false\n"
     ]
    }
   ],
   "source": [
    "List <LexUnit> related = fussball_unit.getRelatedLexUnits(LexRel.has_manner_of_functioning, RelDirection.outgoing);\n",
    "System.out.println(String.format(\"A related lexical unit related to Fußball via an outgoing relation (has_manner_of_functioning) is, for example :\\n%s\", related.get(0).toString()));\n",
    "List <LexUnit> incoming_relations = fussball_unit.getRelatedLexUnits(RelDirection.incoming);\n",
    "System.out.println(String.format(\"\\n A related lexical unit related to Fußball via an incoming relation (pertainymy) is, for example : \\n%s\", incoming_relations.get(0).toString()));"
   ]
  },
  {
   "cell_type": "markdown",
   "metadata": {},
   "source": [
    "Some lexical units have sense definitions, harvested from the German Wictionary. These can be accessed with the wiktionary_paraphrases field.\n"
   ]
  },
  {
   "cell_type": "code",
   "execution_count": 146,
   "metadata": {},
   "outputs": [
    {
     "data": {
      "text/plain": [
       "[LexUnit ID: 29777, Wiktionary ID: 24602, Wiktionary sense definition: Sport, Freizeit, kein Plural: eine beliebte Mannschaftssportart, welche mit 22 Spielern und einem Ball gespielt wird, edited: false]"
      ]
     },
     "execution_count": 146,
     "metadata": {},
     "output_type": "execute_result"
    }
   ],
   "source": [
    "fussball_unit.getWiktionaryParaphrases();"
   ]
  },
  {
   "cell_type": "markdown",
   "metadata": {},
   "source": [
    "Some lexical units have also been linked to the English WordNet. The can be accessed with the ili_records field. \n"
   ]
  },
  {
   "cell_type": "code",
   "execution_count": 147,
   "metadata": {},
   "outputs": [
    {
     "data": {
      "text/plain": [
       "[LexUnit ID: 29777, EWN relation: synonym, PWN word: association football, PWN 2.0 ID: ENG20-00453585-n, PWN 3.0 ID: ENG30-00478262-n, source: initial\n",
       "English synonyms from PWN 2.0: soccer\n",
       "English paraphrase from PWN 2.0: a football game in which two teams of 11 players try to kick or head a ball into the opponents' goal]"
      ]
     },
     "execution_count": 147,
     "metadata": {},
     "output_type": "execute_result"
    }
   ],
   "source": [
    "fussball_unit.getIliRecords();"
   ]
  },
  {
   "cell_type": "markdown",
   "metadata": {},
   "source": [
    "Lexical units which are verbs provide information on language use by giving at least one example sentence.\n",
    "They are also annotated with subcategorisation patterns / verb complementations (frames). For the given example, the frame specifies that the verb can take accusative complements (AN)\n"
   ]
  },
  {
   "cell_type": "code",
   "execution_count": 148,
   "metadata": {},
   "outputs": [
    {
     "name": "stdout",
     "output_type": "stream",
     "text": [
      "id: 80272, orth form: schießen, synset id: 56962, sense: 4, source: core, named entity: false, artificial: false, style marking: false\n",
      "[Er hatte den Ball ins Tor geschossen., frame: NN.AN.BD]\n",
      "[NN.AN.BD]\n"
     ]
    }
   ],
   "source": [
    "LexUnit schiessen = germanet.getLexUnitByID(80272);\n",
    "System.out.println(schiessen.toString());\n",
    "System.out.println(schiessen.getExamples());\n",
    "System.out.println(schiessen.getFrames());"
   ]
  },
  {
   "cell_type": "markdown",
   "metadata": {},
   "source": [
    "## How to extract a large number of examples by applying a filter function\n",
    "If you would like to extract several lexical units or synsets from GermaNet that fulfill a certain number of \n",
    "conditions you can create a filter configuration. A filter configuration allows you for example to search for words of specific\n",
    "Word Classes (e.g. you might be interested in extracting all abstract nouns) or you would like to extract all words that \n",
    "contain a specific subword. To do a search you have to create a filter configuration object. You have to pass a search string\n",
    "as an argument. All other options have defaults but you can set them to adapt your search. \n"
   ]
  },
  {
   "cell_type": "code",
   "execution_count": 149,
   "metadata": {},
   "outputs": [
    {
     "name": "stdout",
     "output_type": "stream",
     "text": [
      "filtered result\n",
      "id: 57998, orth forms: [schießen, stürmen, stürzen], paraphrases: mit hoher Geschwindigkeit bewegen\n",
      "id: 21555, orth forms: [Schießsport, Sportschießen, Schießen]\n",
      "id: 123485, orth forms: [schießen]\n",
      "id: 56650, orth forms: [schießen], paraphrases: einen Schuss/Schüsse abgeben; einen Schuss abgeben\n",
      "id: 59153, orth forms: [schießen, knipsen], paraphrases: dilettantisch fotografieren, Bilder machen\n",
      "id: 60205, orth forms: [schießen, erlegen], paraphrases: Tiere auf der Jagd erlegen; Jägersprache: ein relativ großes Tier bei der Jagd töten, meist durch einen Schuss (Rehe, Hirschen, etc.); (in Bezug auf Wild) erlegen\n",
      "id: 56664, orth forms: [schießen], paraphrases: (an einer bestimmten Stelle) mit einem Schuss treffen; mit einem Schuss treffen\n",
      "id: 56962, orth forms: [schießen], paraphrases: den Ball mit dem Fuß an eine bestimmte Stelle befördern; einen Ball (mit dem Fuss) fortbewegen\n",
      "\n",
      "filtered result, the following synsets belong to WordClass 'Konkurrenz':\n",
      "id: 56650, orth forms: [schießen], paraphrases: einen Schuss/Schüsse abgeben; einen Schuss abgeben\n",
      "id: 56664, orth forms: [schießen], paraphrases: (an einer bestimmten Stelle) mit einem Schuss treffen; mit einem Schuss treffen\n",
      "\n",
      "Size of result is 0\n"
     ]
    }
   ],
   "source": [
    "// we can search for \"schuss\" but we don't want to care about upper or lowercasing and about different orthforms.\n",
    "//as a default words with all word categories and word classes will be added\n",
    "FilterConfig filterconfig = new FilterConfig(\"schießen\");\n",
    "filterconfig.setIgnoreCase(true);\n",
    "List<Synset> result = germanet.getSynsets(filterconfig);\n",
    "System.out.println(\"filtered result\");\n",
    "for (Synset s : result){\n",
    "    System.out.println(s.toString());\n",
    "}\n",
    "// Let's say we are only interested in synsets of a specific semantic class:\n",
    "filterconfig.setWordClasses(WordClass.Konkurrenz);\n",
    "List<Synset> result = germanet.getSynsets(filterconfig);\n",
    "System.out.println(\"\\nfiltered result, the following synsets belong to WordClass 'Konkurrenz':\");\n",
    "for (Synset s : result){\n",
    "    System.out.println(s.toString());\n",
    "}\n",
    "// if we now filter by word category and use only nouns, our result will be empty because there is not entry for 'schießen' as a noun:\n",
    "filterconfig.setWordCategories(WordCategory.nomen);\n",
    "List<Synset> result = germanet.getSynsets(filterconfig);\n",
    "System.out.println(String.format(\"\\nSize of result is %d\" , result.size()));\n"
   ]
  },
  {
   "cell_type": "markdown",
   "metadata": {},
   "source": [
    "Besides using full words as search strings we can use regular expressions. This can be very useful if you are interested \n",
    "in words with certain character sequences. The next examples shows how to extract all words that end with *kuchen* 'cake', all \n",
    "words that contain a whitespace or hyphen (useful for example to extract multiword expressions) and how to extract verbs that contain\n",
    "'ff' or 'ss':\n"
   ]
  },
  {
   "cell_type": "code",
   "execution_count": 150,
   "metadata": {},
   "outputs": [
    {
     "name": "stdout",
     "output_type": "stream",
     "text": [
      "Found  54 words that end with 'kuchen' in GermaNet \n",
      " An example of such is: id: 111562, orth form: Buchweizenpfannkuchen, synset id: 82694, sense: 1, source: core, named entity: false, artificial: false, style marking: false \n",
      " Another example is : id: 118233, orth form: Gewürzkuchen, synset id: 87859, sense: 1, source: core, named entity: false, artificial: false, style marking: false\n",
      "\n",
      "Found  5419 multiword expressions with whitespace or hypen in GermaNet \n",
      " An example of such is: id: 15157, orth form: Offenbarung des Johannes, synset id: 10909, sense: 1, source: core, named entity: false, artificial: false, style marking: false \n",
      " Another example is : id: 66741, orth form: Motten-Königskerze, synset id: 46513, sense: 1, source: core, named entity: false, artificial: false, style marking: false\n",
      "\n",
      "Found  974 verbs with double s or double f in GermaNet \n",
      " An example of such is: id: 159384, orth form: hineinpressen, synset id: 120024, sense: 1, source: core, named entity: false, artificial: false, style marking: false \n",
      " Another example is : id: 194913, orth form: auffalten, synset id: 150207, sense: 2, source: core, named entity: false, artificial: false, style marking: false\n"
     ]
    }
   ],
   "source": [
    "FilterConfig filterconfig = new FilterConfig(\".*kuchen\");\n",
    "filterconfig.setRegEx(true);\n",
    "filterconfig.setWordCategories(WordCategory.nomen);\n",
    "List<LexUnit> result = germanet.getLexUnits(filterconfig);\n",
    "System.out.println(String.format(\"Found  %d words that end with 'kuchen' in GermaNet \\n An example of such is: %s \\n Another example is : %s\"\n",
    "      , result.size(), result.get(0).toString(), result.get(10).toString()));\n",
    "\n",
    "// extract all words that contain a white space or a hyphen\n",
    "FilterConfig filterconfig = new FilterConfig(\".+(\\\\s|-).+\");\n",
    "filterconfig.setRegEx(true);\n",
    "filterconfig.setWordCategories(WordCategory.nomen);\n",
    "List<LexUnit> result = germanet.getLexUnits(filterconfig);\n",
    "System.out.println(String.format(\"\\nFound  %d multiword expressions with whitespace or hypen in GermaNet \\n An example of such is: %s \\n Another example is : %s\"\n",
    "      , result.size(), result.get(0).toString(), result.get(10).toString()));\n",
    "\n",
    "// extract all verbs that contain exactly two 'ss' or two 'ff'\n",
    "FilterConfig filterconfig = new FilterConfig(\".+(f{2,}|s{2,}).+\");\n",
    "filterconfig.setRegEx(true);\n",
    "filterconfig.setWordCategories(WordCategory.verben);\n",
    "List<LexUnit> result = germanet.getLexUnits(filterconfig);\n",
    "System.out.println(String.format(\"\\nFound  %d verbs with double s or double f in GermaNet \\n An example of such is: %s \\n Another example is : %s\"\n",
    "      , result.size(), result.get(1).toString(), result.get(10).toString()));"
   ]
  },
  {
   "cell_type": "code",
   "execution_count": null,
   "metadata": {},
   "outputs": [],
   "source": []
  }
 ],
 "metadata": {
  "kernelspec": {
   "display_name": "Java",
   "language": "java",
   "name": "java"
  },
  "language_info": {
   "codemirror_mode": "java",
   "file_extension": ".jshell",
   "mimetype": "text/x-java-source",
   "name": "Java",
   "pygments_lexer": "java",
   "version": "12.0.1+12"
  }
 },
 "nbformat": 4,
 "nbformat_minor": 2
}
